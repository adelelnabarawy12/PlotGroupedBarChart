{
 "cells": [
  {
   "cell_type": "code",
   "execution_count": 1,
   "metadata": {},
   "outputs": [],
   "source": [
    "import numpy as np\n",
    "import matplotlib.pyplot as plt"
   ]
  },
  {
   "cell_type": "code",
   "execution_count": 2,
   "metadata": {},
   "outputs": [],
   "source": [
    "def PlotGroupedBarChart(x = [], y = {}, title = '', xlabel = '', ylabel = '', bar_width = 0.15):\n",
    "    len_val = len(x)\n",
    "    bars_num = len(y)\n",
    "    vals = np.arange(len_val)\n",
    "    xticks, x_ = vals + (bar_width / 2) * (bars_num - 1), [vals + (bar_width * i) for i in range(bars_num)]\n",
    "    i = 0\n",
    "    \n",
    "    for label, arr in y.items():\n",
    "        plt.bar(x_[i], arr, width=bar_width, label=label)\n",
    "        i = i + 1\n",
    "    # End For\n",
    "    \n",
    "    plt.xlabel(xlabel)\n",
    "    plt.ylabel(ylabel)\n",
    "    plt.title(title)\n",
    "    plt.xticks(xticks, x, rotation=45)\n",
    "    plt.legend()\n",
    "    plt.show()\n",
    "# End Func"
   ]
  },
  {
   "cell_type": "code",
   "execution_count": 3,
   "metadata": {},
   "outputs": [
    {
     "data": {
      "image/png": "[encoded data removed]",
      "text/plain": [
       "<Figure size 432x288 with 1 Axes>"
      ]
     },
     "metadata": {
      "needs_background": "light"
     },
     "output_type": "display_data"
    }
   ],
   "source": [
    "x = ['CSE', 'ISE', 'ECE', 'EEE']\n",
    "y = {\n",
    "    'class_0' : [114, 230, 510, 370],\n",
    "    'class_1' : [115, 215, 250, 200],\n",
    "    'class_2' : [123, 333, 324, 126],\n",
    "    'class_3' : [200, 233, 424, 105],\n",
    "    'class_4' : [200, 233, 424, 105]\n",
    "}\n",
    "title = 'Classes Vs Courses'\n",
    "xlabel = 'Courses'\n",
    "ylabel = 'Classes'\n",
    "bar_width = 0.1\n",
    "\n",
    "PlotGroupedBarChart(x = x, y = y, title = title, xlabel = xlabel, ylabel = ylabel, bar_width = 0.15)"
   ]
  }
 ],
 "metadata": {
  "kernelspec": {
   "display_name": "Python 3",
   "language": "python",
   "name": "python3"
  },
  "language_info": {
   "codemirror_mode": {
    "name": "ipython",
    "version": 3
   },
   "file_extension": ".py",
   "mimetype": "text/x-python",
   "name": "python",
   "nbconvert_exporter": "python",
   "pygments_lexer": "ipython3",
   "version": "3.7.6"
  }
 },
 "nbformat": 4,
 "nbformat_minor": 4
}
